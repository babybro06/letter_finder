{
 "cells": [
  {
   "cell_type": "markdown",
   "metadata": {},
   "source": [
    "# letter counter\n",
    "\n",
    "* we will count how many of a letter is in a word"
   ]
  },
  {
   "cell_type": "code",
   "execution_count": 9,
   "metadata": {},
   "outputs": [
    {
     "name": "stdout",
     "output_type": "stream",
     "text": [
      "please give the word you want checked: aaaaaaaaaaaaaaaaaaaaaaaaaaaaaaaaaaaaaaaaaaaaaaa\n",
      "please give the letter you want checked: a\n",
      "a  is this many times in  aaaaaaaaaaaaaaaaaaaaaaaaaaaaaaaaaaaaaaaaaaaaaaa :  47\n"
     ]
    }
   ],
   "source": [
    "#these are the words and letter variables\n",
    "word = input('please give the word you want checked: ')\n",
    "letter = input('please give the letter you want checked: ')\n",
    "x = 0\n",
    "\n",
    "# start a loop to go thru word\n",
    "for y in word:\n",
    "#    print(x,y)\n",
    "    if letter.lower() == y.lower():\n",
    "        x += 1\n",
    "        \n",
    "print(letter,' is this many times in ',word,': ',x)\n"
   ]
  },
  {
   "cell_type": "markdown",
   "metadata": {},
   "source": [
    "# Roman Numeral Converter\n",
    "###### it will covert a number to roman numeral"
   ]
  },
  {
   "cell_type": "code",
   "execution_count": 3,
   "metadata": {},
   "outputs": [
    {
     "name": "stdout",
     "output_type": "stream",
     "text": [
      "Enter a Number: 2\n",
      "Number Entered: 2\n",
      "II\n"
     ]
    }
   ],
   "source": [
    "8\n",
    "\n",
    "if x == 1:\n",
    "    print('I')\n",
    "elif x == 2:\n",
    "    print('II')\n",
    "elif x == 3:\n",
    "    print('III')\n",
    "elif x == 4:\n",
    "    print('IV')\n",
    "elif x == 5:\n",
    "    print('V')\n",
    "elif x == 6:\n",
    "    print('VI')\n",
    "elif x == 7:\n",
    "    print('VII')\n",
    "elif x == 8:\n",
    "    print('VIII')\n",
    "elif x == 9:\n",
    "    print('IX')\n",
    "elif x == 10:\n",
    "    print('X')    "
   ]
  },
  {
   "cell_type": "code",
   "execution_count": 11,
   "metadata": {},
   "outputs": [
    {
     "name": "stdout",
     "output_type": "stream",
     "text": [
      "Enter a Number: 27\n",
      "Number Entered: 27\n",
      "LXVIIIIIIIIIIIIIIIIIIIIII\n"
     ]
    }
   ],
   "source": [
    "x = int(input('Enter a Number: '))\n",
    "print('Number Entered:', x)\n",
    "\n",
    "if x <4:\n",
    "    print(x*'I')\n",
    "elif x==4:\n",
    "    print('IV')\n",
    "elif x>=5 and (x)%50<49:\n",
    "    print('L',end='')\n",
    "    if (x%10 <9 ):\n",
    "        print('X',end='')\n",
    "        if x%5 <4:\n",
    "            print('V'+(x-5)*'I')\n"
   ]
  }
 ],
 "metadata": {
  "kernelspec": {
   "display_name": "Python 3",
   "language": "python",
   "name": "python3"
  },
  "language_info": {
   "codemirror_mode": {
    "name": "ipython",
    "version": 3
   },
   "file_extension": ".py",
   "mimetype": "text/x-python",
   "name": "python",
   "nbconvert_exporter": "python",
   "pygments_lexer": "ipython3",
   "version": "3.7.6"
  }
 },
 "nbformat": 4,
 "nbformat_minor": 4
}
